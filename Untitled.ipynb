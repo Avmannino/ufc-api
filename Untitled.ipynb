{
 "cells": [
  {
   "cell_type": "code",
   "execution_count": 5,
   "id": "8080a703-ec07-46d0-8cbf-69eb195247d7",
   "metadata": {},
   "outputs": [],
   "source": [
    "import requests as req\n",
    "from lxml import html\n",
    "import datetime as dt\n",
    "import math\n",
    "\n",
    "url = \"https://www.sherdog.com/fighter/Jon-Jones-27944\"\n",
    "headers = {\"User-Agent\": \"Mozilla/5.0 (Windows NT 10.0; Win64; x64) AppleWebKit/537.36 (KHTML, like Gecko) Chrome/111.0.0.0 Safari/537.36\"}\n",
    "fight_list = []\n",
    "htm = req.get(url, headers = headers)\n",
    "xml = html.document_fromstring(htm.content)\n"
   ]
  },
  {
   "cell_type": "code",
   "execution_count": 8,
   "id": "aad70f18-a7e6-4ec0-b2cf-2d440ee5b13a",
   "metadata": {},
   "outputs": [],
   "source": [
    "import ufc"
   ]
  },
  {
   "cell_type": "code",
   "execution_count": 12,
   "id": "4812fcf8-0e0d-4f68-a142-19389d14d127",
   "metadata": {},
   "outputs": [
    {
     "data": {
      "text/plain": [
       "{'name': 'UFC 280: Oliveira vs. Makhachev',\n",
       " 'date': '2022-10-22',\n",
       " 'location': 'Yas Island/Yas West United Arab Emirates',\n",
       " 'venue': 'Etihad Arena',\n",
       " 'fights': [{'weightclass': 'Lightweight Title',\n",
       "   'red corner': {'name': 'Charles Oliveira',\n",
       "    'ranking': 'Unranked',\n",
       "    'odds': '+165',\n",
       "    'link': 'https://www.ufc.com/athlete/charles-oliveira',\n",
       "    'result': 'Loss'},\n",
       "   'blue corner': {'name': 'Islam Makhachev',\n",
       "    'ranking': 'Unranked',\n",
       "    'odds': '-195',\n",
       "    'link': 'https://www.ufc.com/athlete/islam-makhachev',\n",
       "    'result': 'Win'},\n",
       "   'round': '2',\n",
       "   'time': '3:16',\n",
       "   'method': 'Submission'},\n",
       "  {'weightclass': 'Bantamweight Title',\n",
       "   'red corner': {'name': 'Aljamain Sterling',\n",
       "    'ranking': 'Unranked',\n",
       "    'odds': '-175',\n",
       "    'link': 'https://www.ufc.com/athlete/aljamain-sterling',\n",
       "    'result': 'Win'},\n",
       "   'blue corner': {'name': 'TJ Dillashaw',\n",
       "    'ranking': 'Unranked',\n",
       "    'odds': '+150',\n",
       "    'link': 'https://www.ufc.com/athlete/tj-dillashaw',\n",
       "    'result': 'Loss'},\n",
       "   'round': '2',\n",
       "   'time': '3:44',\n",
       "   'method': 'KO/TKO'},\n",
       "  {'weightclass': 'Bantamweight',\n",
       "   'red corner': {'name': 'Petr Yan',\n",
       "    'ranking': 'Unranked',\n",
       "    'odds': '-275',\n",
       "    'link': 'https://www.ufc.com/athlete/petr-yan',\n",
       "    'result': 'Loss'},\n",
       "   'blue corner': {'name': \"Sean O'Malley\",\n",
       "    'ranking': 'Unranked',\n",
       "    'odds': '+230',\n",
       "    'link': 'https://www.ufc.com/athlete/sean-omalley',\n",
       "    'result': 'Win'},\n",
       "   'round': '3',\n",
       "   'time': '5:00',\n",
       "   'method': 'Decision - Split'},\n",
       "  {'weightclass': 'Lightweight',\n",
       "   'red corner': {'name': 'Beneil Dariush',\n",
       "    'ranking': 'Unranked',\n",
       "    'odds': '+180',\n",
       "    'link': 'https://www.ufc.com/athlete/beneil-dariush',\n",
       "    'result': 'Win'},\n",
       "   'blue corner': {'name': 'Mateusz Gamrot',\n",
       "    'ranking': 'Unranked',\n",
       "    'odds': '-210',\n",
       "    'link': 'https://www.ufc.com/athlete/mateusz-gamrot',\n",
       "    'result': 'Loss'},\n",
       "   'round': '3',\n",
       "   'time': '5:00',\n",
       "   'method': 'Decision - Unanimous'},\n",
       "  {'weightclass': \"Women's Flyweight\",\n",
       "   'red corner': {'name': 'Katlyn Chookagian',\n",
       "    'ranking': 'Unranked',\n",
       "    'odds': '+185',\n",
       "    'link': 'https://www.ufc.com/athlete/katlyn-chookagian',\n",
       "    'result': 'Loss'},\n",
       "   'blue corner': {'name': 'Manon Fiorot',\n",
       "    'ranking': 'Unranked',\n",
       "    'odds': '-215',\n",
       "    'link': 'https://www.ufc.com/athlete/manon-fiorot',\n",
       "    'result': 'Win'},\n",
       "   'round': '3',\n",
       "   'time': '5:00',\n",
       "   'method': 'Decision - Unanimous'},\n",
       "  {'weightclass': 'Welterweight',\n",
       "   'red corner': {'name': 'Belal Muhammad',\n",
       "    'ranking': 'Unranked',\n",
       "    'odds': '+120',\n",
       "    'link': 'https://www.ufc.com/athlete/belal-muhammad',\n",
       "    'result': 'Win'},\n",
       "   'blue corner': {'name': 'Sean Brady',\n",
       "    'ranking': 'Unranked',\n",
       "    'odds': '-140',\n",
       "    'link': 'https://www.ufc.com/athlete/sean-brady',\n",
       "    'result': 'Loss'},\n",
       "   'round': '2',\n",
       "   'time': '4:47',\n",
       "   'method': 'KO/TKO'},\n",
       "  {'weightclass': 'Middleweight',\n",
       "   'red corner': {'name': 'Makhmud Muradov',\n",
       "    'ranking': 'Unranked',\n",
       "    'odds': '+175',\n",
       "    'link': 'https://www.ufc.com/athlete/makhmud-muradov',\n",
       "    'result': 'Loss'},\n",
       "   'blue corner': {'name': 'Caio Borralho',\n",
       "    'ranking': 'Unranked',\n",
       "    'odds': '-205',\n",
       "    'link': 'https://www.ufc.com/athlete/mario-souza-3',\n",
       "    'result': 'Win'},\n",
       "   'round': '3',\n",
       "   'time': '5:00',\n",
       "   'method': 'Decision - Unanimous'},\n",
       "  {'weightclass': 'Light Heavyweight',\n",
       "   'red corner': {'name': 'Volkan Oezdemir',\n",
       "    'ranking': 'Unranked',\n",
       "    'odds': '+150',\n",
       "    'link': 'https://www.ufc.com/athlete/volkan-oezdemir',\n",
       "    'result': 'Loss'},\n",
       "   'blue corner': {'name': 'Nikita Krylov',\n",
       "    'ranking': 'Unranked',\n",
       "    'odds': '-175',\n",
       "    'link': 'https://www.ufc.com/athlete/nikita-krylov',\n",
       "    'result': 'Win'},\n",
       "   'round': '3',\n",
       "   'time': '5:00',\n",
       "   'method': 'Decision - Unanimous'},\n",
       "  {'weightclass': 'Welterweight',\n",
       "   'red corner': {'name': 'Abubakar Nurmagomedov',\n",
       "    'ranking': 'Unranked',\n",
       "    'odds': '-165',\n",
       "    'link': 'https://www.ufc.com/athlete/abubakar-nurmagomedov',\n",
       "    'result': 'Win'},\n",
       "   'blue corner': {'name': 'Gadzhi Omargadzhiev',\n",
       "    'ranking': 'Unranked',\n",
       "    'odds': '+140',\n",
       "    'link': 'https://www.ufc.com/athlete/trevin-dzhayls-2',\n",
       "    'result': 'Loss'},\n",
       "   'round': '3',\n",
       "   'time': '5:00',\n",
       "   'method': 'Decision - Unanimous'},\n",
       "  {'weightclass': 'Middleweight',\n",
       "   'red corner': {'name': 'Armen Petrosyan',\n",
       "    'ranking': 'Unranked',\n",
       "    'odds': '-195',\n",
       "    'link': 'https://www.ufc.com/athlete/karlos-olberg-4',\n",
       "    'result': 'Win'},\n",
       "   'blue corner': {'name': 'AJ Dobson',\n",
       "    'ranking': 'Unranked',\n",
       "    'odds': '+165',\n",
       "    'link': 'https://www.ufc.com/athlete/manon-firot-2',\n",
       "    'result': 'Loss'},\n",
       "   'round': '3',\n",
       "   'time': '5:00',\n",
       "   'method': 'Decision - Unanimous'},\n",
       "  {'weightclass': 'Flyweight',\n",
       "   'red corner': {'name': 'Muhammad Mokaev',\n",
       "    'ranking': 'Unranked',\n",
       "    'odds': '-1150',\n",
       "    'link': 'https://www.ufc.com/athlete/liana-dzhodzhua-0',\n",
       "    'result': 'Win'},\n",
       "   'blue corner': {'name': 'Malcolm Gordon',\n",
       "    'ranking': 'Unranked',\n",
       "    'odds': '+750',\n",
       "    'link': 'https://www.ufc.com/athlete/malcolm-gordon',\n",
       "    'result': 'Loss'},\n",
       "   'round': '3',\n",
       "   'time': '4:26',\n",
       "   'method': 'Submission'},\n",
       "  {'weightclass': \"Women's Bantamweight\",\n",
       "   'red corner': {'name': 'Karol Rosa',\n",
       "    'ranking': 'Unranked',\n",
       "    'odds': '-360',\n",
       "    'link': 'https://www.ufc.com/athlete/karol-rosa',\n",
       "    'result': 'Win'},\n",
       "   'blue corner': {'name': 'Lina Lansberg',\n",
       "    'ranking': 'Unranked',\n",
       "    'odds': '+295',\n",
       "    'link': 'https://www.ufc.com/athlete/lina-lansberg',\n",
       "    'result': 'Loss'},\n",
       "   'round': '3',\n",
       "   'time': '5:00',\n",
       "   'method': 'Decision - Majority'}]}"
      ]
     },
     "execution_count": 12,
     "metadata": {},
     "output_type": "execute_result"
    }
   ],
   "source": [
    "ufc.get_event('ufc 280')"
   ]
  },
  {
   "cell_type": "markdown",
   "id": "2be4c28e-e62a-419d-9527-605976ee0f2d",
   "metadata": {},
   "source": [
    "# UFC API\n",
    "\n",
    "UFC API is a lightweight web crawler built in Python to retrieve data on UFC fighters and events.\n",
    "\n",
    "# Installation\n",
    "\n",
    "You can install UFC API using pip:\n",
    "\n",
    "```\n",
    "pip install ufc_api\n",
    "```\n",
    "\n",
    "# Usage\n",
    "\n",
    "Usage is simple. To get stats on a particular fighter returned as a json:\n",
    "\n",
    "```\n",
    ">>> from ufc_api import get_fighter\n",
    "\n",
    ">>> get_fighter('Jon Jones')\n",
    "\n",
    ">>> {'name': 'Jon Jones',\n",
    " 'nickname': 'Bones',\n",
    " 'nationality': 'United States',\n",
    " 'birthplace': 'Rochester, New York',\n",
    " 'birthdate': 'Jul 19, 1987',\n",
    " 'age': '35',\n",
    " 'height': '6\\'4\"',\n",
    " 'weight': '248 lbs',\n",
    " 'association': 'Jackson-Wink MMA',\n",
    " 'weight_class': 'Heavyweight',\n",
    " 'wins': {'total': '27',\n",
    "  'ko/tko': '10',\n",
    "  'submissions': '7',\n",
    "  'decisions': '10',\n",
    "  'others': '0'},\n",
    " 'losses': {'total': '1',\n",
    "  'ko/tko': '0',\n",
    "  'submissions': '0',\n",
    "  'decisions': '0',\n",
    "  'others': '1'},\n",
    " 'fights': [{'name': 'UFC 285 - Jones vs. Gane',\n",
    "   'date': 'Mar / 04 / 2023',\n",
    "   'url': 'https://www.sherdog.com/events/UFC-285-Jones-vs-Gane-95232',\n",
    "   'result': 'win',\n",
    "   'method': 'Submission (Guillotine Choke)',\n",
    "   'referee': 'Marc Goddard',\n",
    "   'round': '1',\n",
    "   'time': '2:04',\n",
    "   'opponent': 'Ciryl Gane'},\n",
    "   ...\n",
    "   \n",
    "```\n",
    "\n",
    "To get data on an event, the usage is similar:\n",
    "\n",
    "```\n",
    "```"
   ]
  },
  {
   "cell_type": "code",
   "execution_count": 28,
   "id": "1bd6e47e-5f25-48b6-977e-9a9dbc720561",
   "metadata": {},
   "outputs": [],
   "source": [
    "def parse_sherdog_fighter(url):\n",
    "    headers = {\"User-Agent\": \"Mozilla/5.0 (Windows NT 10.0; Win64; x64) AppleWebKit/537.36 (KHTML, like Gecko) Chrome/111.0.0.0 Safari/537.36\"}\n",
    "    htm = req.get(url, headers = headers)\n",
    "    xml = html.document_fromstring(htm.content)\n",
    "    \n",
    "    \n",
    "    wins_detailed = xml.xpath(\"//div[@class='wins']/div[@class='meter']/div[1]/text()\")\n",
    "    losses_detailed = xml.xpath(\"//div[@class='loses']/div[@class='meter']/div[1]/text()\")\n",
    "    bio = xml.xpath(\"//div[@class='fighter-info']\")[0]\n",
    "    \n",
    "    try:\n",
    "        other_wins = wins_detailed[3]\n",
    "        other_losses = losses_detailed[3]\n",
    "    except IndexError:\n",
    "        other_wins = '0'\n",
    "        other_losses = '0'\n",
    "\n",
    "    fighter = {\n",
    "        'name' : xml.xpath(\"//span[@class='fn']/text()\")[0],\n",
    "        'nickname' : bio.xpath(\"//span[@class='nickname']/em/text()\")[0],\n",
    "        'nationality' : bio.xpath(\"//strong[@itemprop='nationality']/text()\")[0],\n",
    "        'birthplace' : xml.xpath(\"//span[@class='locality']/text()\")[0],\n",
    "        'birthdate' : xml.xpath(\"//span[@itemprop='birthDate']/text()\")[0],\n",
    "        'age' : xml.xpath(\"//span[@itemprop='birthDate']/preceding-sibling::b/text()\")[0],\n",
    "        'height' : xml.xpath(\"//b[@itemprop='height']/text()\")[0],\n",
    "        'weight' : xml.xpath(\"//b[@itemprop='weight']/text()\")[0],\n",
    "        'association' : xml.xpath(\"//span[@itemprop='memberOf']/a/span/text()\")[0],\n",
    "        'weight_class' : xml.xpath(\"//div[@class='association-class']/a/text()\")[0],\n",
    "\n",
    "        'wins' : {\n",
    "            'total': xml.xpath(\"//div[@class='winloses win']/span[2]/text()\")[0],\n",
    "            'ko/tko': wins_detailed[0],\n",
    "            'submissions':wins_detailed[1],\n",
    "            'decisions':wins_detailed[2],\n",
    "            'others': other_wins\n",
    "                },\n",
    "        'losses' : {\n",
    "            'total': xml.xpath(\"//div[@class='winloses lose']/span[2]/text()\")[0],\n",
    "            'ko/tko': losses_detailed[0],\n",
    "            'submissions':losses_detailed[1],\n",
    "            'decisions':losses_detailed[2],\n",
    "            'others':other_losses\n",
    "                },\n",
    "\n",
    "        'fights' : []\n",
    "    }\n",
    "\n",
    "    fight_rows = xml.xpath(\"//table[@class='new_table fighter']/tr[not(@class='table_head')]\")\n",
    "\n",
    "    for row in fight_rows:\n",
    "        try:\n",
    "            referee =  row.xpath(\"td[4]/span/a/text()\")[0]\n",
    "        except IndexError:\n",
    "            referee = \"\"\n",
    "\n",
    "        fight = {\n",
    "            'name': row.xpath(\"td[3]/a/descendant-or-self::*/text()\")[0],\n",
    "            'date': row.xpath(\"td[3]/span/text()\")[0],\n",
    "            'url': \"https://www.sherdog.com\" + row.xpath(\"td[3]/a/@href\")[0],\n",
    "            'result': row.xpath(\"td[1]/span/text()\")[0],\n",
    "            'method': row.xpath(\"td[4]/b/text()\")[0],\n",
    "            'referee': referee,\n",
    "            'round': row.xpath(\"td[5]/text()\")[0],\n",
    "            'time': row.xpath(\"td[6]/text()\")[0],\n",
    "            'opponent': row.xpath(\"td[2]/a/text()\")[0]\n",
    "        }\n",
    "        fighter['fights'].append(fight)\n",
    "    return fighter\n",
    "\n",
    "    \n"
   ]
  },
  {
   "cell_type": "code",
   "execution_count": null,
   "id": "26a5272f-519d-4ab4-9971-c1b40810411c",
   "metadata": {},
   "outputs": [],
   "source": [
    "parse_sherdog_fighter(\"https://www.sherdog.com/fighter/Brandon-Vera-4886\")"
   ]
  },
  {
   "cell_type": "code",
   "execution_count": null,
   "id": "bcd01a19-f20a-4f3a-ac6b-75b3ee61af18",
   "metadata": {},
   "outputs": [],
   "source": [
    "bad.xpath(\"td[3]/a/descendant-or-self::*/text()\")"
   ]
  },
  {
   "cell_type": "code",
   "execution_count": null,
   "id": "fcfa32e9-512d-4cb0-9a54-c035a8c2cf2a",
   "metadata": {},
   "outputs": [],
   "source": [
    "xml.xpath(\"//span[@itemprop='birthDate']/preceding-sibling::b/text()\")"
   ]
  },
  {
   "cell_type": "code",
   "execution_count": null,
   "id": "2d642fe2-6e57-4274-9ba2-e035cb07632c",
   "metadata": {},
   "outputs": [],
   "source": [
    "dt.datetime.strptime(birthdate, \"%b %d, %Y\")"
   ]
  },
  {
   "cell_type": "code",
   "execution_count": null,
   "id": "7e82f7c5-b17a-4cc0-b014-61ada12e1029",
   "metadata": {},
   "outputs": [],
   "source": [
    "delt"
   ]
  },
  {
   "cell_type": "code",
   "execution_count": null,
   "id": "566cf67e-7ff8-4df7-b225-123b97dc17a7",
   "metadata": {},
   "outputs": [],
   "source": [
    "xml.xpath(\"//span[@itemprop='memberOf']/a/span/text()\")[0]"
   ]
  },
  {
   "cell_type": "code",
   "execution_count": null,
   "id": "6059d35f-e8aa-48cc-a4fb-e02839072ea3",
   "metadata": {},
   "outputs": [],
   "source": [
    "row = fight_rows[0]\n",
    "\n",
    "fight = {\n",
    "    'name': row.xpath(\"td[3]/a/span/text()\")[0],\n",
    "    'date': row.xpath(\"td[3]/span/text()\")[0],\n",
    "    'url': \"https://www.sherdog.com\" + row.xpath(\"td[3]/a/@href\")[0],\n",
    "    'result': row.xpath(\"td[1]/span/text()\")[0],\n",
    "    'method': row.xpath(\"td[4]/b/text()\")[0],\n",
    "    'referee': row.xpath(\"td[4]/span/a/text()\")[0],\n",
    "    'round': row.xpath(\"td[5]/text()\")[0],\n",
    "    'time': row.xpath(\"td[6]/text()\")[0],\n",
    "    'opponent': row.xpath(\"td[2]/a/text()\")[0]\n",
    "}"
   ]
  },
  {
   "cell_type": "code",
   "execution_count": null,
   "id": "230f3eef-b84b-4e4e-af84-9fd0027daf34",
   "metadata": {},
   "outputs": [],
   "source": [
    "url = \"https://www.sherdog.com/sitemap.xml\"\n",
    "htm = req.get(url, headers = headers)\n",
    "xml = etree.HTML(htm.content)"
   ]
  },
  {
   "cell_type": "code",
   "execution_count": null,
   "id": "33b8672c-55c0-4f0e-b181-a5a15ab11d89",
   "metadata": {},
   "outputs": [],
   "source": [
    "xml.xpath(\"//sitemap/loc[contains(text(), 'fighter')]/text()\")"
   ]
  },
  {
   "cell_type": "code",
   "execution_count": 189,
   "id": "a9e922cd-8a39-4b04-9a6f-e12a5c65ba93",
   "metadata": {},
   "outputs": [],
   "source": [
    "from bs4 import BeautifulSoup as bs\n",
    "url = \"https://www.sherdog.com/sitemap-fighters.xml\"\n",
    "htm = req.get(url, headers = headers)"
   ]
  },
  {
   "cell_type": "code",
   "execution_count": 190,
   "id": "dc64fb51-2540-4119-8fc8-16e5f2edb407",
   "metadata": {},
   "outputs": [],
   "source": [
    "def bs_test():\n",
    "    soup = bs(htm.content)\n",
    "    [x.text for x in soup.find_all('loc')]\n",
    "\n",
    "def lxml_test():\n",
    "    xml = etree.HTML(htm.content)\n",
    "    xml.xpath(\"//loc/text()\")\n",
    "    \n",
    "def regex_test():\n",
    "    re.findall(\"(?<=<loc>)(.*)(?=</loc>)\", htm.text)\n",
    "    "
   ]
  },
  {
   "cell_type": "code",
   "execution_count": 191,
   "id": "c79bba58-51ed-4f90-acc8-6eb0c47c9930",
   "metadata": {},
   "outputs": [
    {
     "name": "stdout",
     "output_type": "stream",
     "text": [
      "1.21 s ± 93.8 ms per loop (mean ± std. dev. of 7 runs, 1 loop each)\n"
     ]
    }
   ],
   "source": [
    "%timeit bs_test()"
   ]
  },
  {
   "cell_type": "code",
   "execution_count": 192,
   "id": "6163abc1-e68e-4b37-a24e-663e002a99a8",
   "metadata": {},
   "outputs": [
    {
     "name": "stdout",
     "output_type": "stream",
     "text": [
      "149 ms ± 598 µs per loop (mean ± std. dev. of 7 runs, 10 loops each)\n"
     ]
    }
   ],
   "source": [
    "%timeit lxml_test()"
   ]
  },
  {
   "cell_type": "code",
   "execution_count": 193,
   "id": "1500c249-4e3c-4638-b6ca-fef406cc6619",
   "metadata": {},
   "outputs": [
    {
     "name": "stdout",
     "output_type": "stream",
     "text": [
      "29.5 ms ± 3.3 ms per loop (mean ± std. dev. of 7 runs, 10 loops each)\n"
     ]
    }
   ],
   "source": [
    "%timeit regex_test()"
   ]
  },
  {
   "cell_type": "code",
   "execution_count": null,
   "id": "586fe6d9-12b1-47ae-ba22-e2f6b0d3d934",
   "metadata": {},
   "outputs": [],
   "source": [
    "import re\n",
    "dummy_text = \"<loc>this is a link</loc>\"\n",
    "re.findall(\"(?<=<loc>)(.*)(?=</loc>)\", htm.text)\n"
   ]
  },
  {
   "cell_type": "code",
   "execution_count": 213,
   "id": "5d3c2292-50cb-4d14-8ba7-e88b2ceee949",
   "metadata": {},
   "outputs": [],
   "source": [
    "import os\n",
    "import asyncio\n",
    "import aiohttp\n",
    "import re\n",
    "\n",
    "async def update_links():\n",
    "    \n",
    "    #Remove the current url mapping if it exists\n",
    "    try:\n",
    "        os.remove(\"url_mapping.json\")\n",
    "    except FileNotFoundError:\n",
    "        pass\n",
    "    \n",
    "    #Pull all the links to sub site maps for fighter pages\n",
    "    url = \"https://www.sherdog.com/sitemap.xml\"\n",
    "    htm = req.get(url, headers = headers)\n",
    "    xml = etree.HTML(htm.content)\n",
    "    fighter_maps = xml.xpath(\"//sitemap/loc[contains(text(), 'fighter')]/text()\")\n",
    "\n",
    "    final_dict = {}\n",
    "    \n",
    "    #Pull all the links and names from the sub site maps for each of the fighter pages\n",
    "    res = await asyncio.gather(*(get_link_sitemap(url) for url in fighter_maps))\n",
    "    \n",
    "    #Update dictionary with all the name:links \n",
    "    [final_dict.update(x) for x in res]\n",
    "    \n",
    "    #write everything to a json file\n",
    "    with open(\"url_mapping.json\", \"w\") as f:\n",
    "        json.dump(final_dict, f)\n",
    "        \n",
    "        \n",
    "async def get_link_sitemap(url):\n",
    "    connector = aiohttp.TCPConnector(limit=60)\n",
    "    async with aiohttp.ClientSession(connector=connector) as session:\n",
    "        async with session.get(url, headers=headers) as response:\n",
    "            htm = await response.text()              \n",
    "            names = {\" \".join(l.split(\"/\")[-1].split(\"-\")[-1]): {'name': \" \".join(l.split(\"/\")[-1].split(\"-\")[;-1]), 'link': l} for l in re.findall(\"(?<=<loc>)(.*)(?=</loc>)\", htm)}\n",
    "            return names"
   ]
  },
  {
   "cell_type": "code",
   "execution_count": null,
   "id": "dd719215-1118-477f-9640-09ee02a285e2",
   "metadata": {},
   "outputs": [],
   "source": []
  },
  {
   "cell_type": "code",
   "execution_count": 214,
   "id": "553dfdb1-59ea-4485-85a8-366f9bbdffcd",
   "metadata": {},
   "outputs": [],
   "source": [
    "stuff = await update_links()"
   ]
  },
  {
   "cell_type": "code",
   "execution_count": 1,
   "id": "4cf7b86c-c8f8-4a29-9479-31b4c54417df",
   "metadata": {},
   "outputs": [
    {
     "name": "stderr",
     "output_type": "stream",
     "text": [
      "C:\\Users\\user\\AppData\\Roaming\\Python\\Python310\\site-packages\\requests\\__init__.py:102: RequestsDependencyWarning: urllib3 (1.26.8) or chardet (5.0.0)/charset_normalizer (2.0.11) doesn't match a supported version!\n",
      "  warnings.warn(\"urllib3 ({}) or chardet ({})/charset_normalizer ({}) doesn't match a supported \"\n"
     ]
    },
    {
     "data": {
      "text/plain": [
       "<generator object search at 0x000001B0647BEAB0>"
      ]
     },
     "execution_count": 1,
     "metadata": {},
     "output_type": "execute_result"
    }
   ],
   "source": [
    "from googlesearch import search\n",
    "search(\"Jon Jones Sherdog\", num_results = 5)"
   ]
  },
  {
   "cell_type": "code",
   "execution_count": 6,
   "id": "dea4576c-7985-4500-860e-bc7c27911e51",
   "metadata": {},
   "outputs": [
    {
     "name": "stdout",
     "output_type": "stream",
     "text": [
      "https://www.sherdog.com/fighter/John-Jones-45686\n",
      "https://www.sherdog.com/fighter/John-Jones-3942\n",
      "https://www.sherdog.com/fighter/Felipe-Boaventura-147201\n",
      "https://www.sherdog.com/fighter/news/8/Jon-Jones-27944\n",
      "https://www.sherdog.com/\n",
      "https://www.sherdog.com/news/news/Jon-Jones-Stipe-Miocic-Likely-Last-Fight-Unless-Francis-Ngannou-Returns-to-UFC-189891\n",
      "https://www.tapology.com/fightcenter/fighters/jon-jones-bones\n",
      "https://en.wikipedia.org/wiki/Jon_Jones\n",
      "https://www.ufc.com/athlete/jon-jones\n",
      "https://www.espn.com/mma/fighter/_/id/2335639/jon\n"
     ]
    }
   ],
   "source": []
  },
  {
   "cell_type": "code",
   "execution_count": null,
   "id": "911b0d1a-a9e8-4f77-a312-e457a0958288",
   "metadata": {},
   "outputs": [],
   "source": [
    "[\" \".join(l.split(\"/\")[-1].split(\"-\")[:-1]) for l in xml.xpath(\"//loc/text()\")]"
   ]
  },
  {
   "cell_type": "code",
   "execution_count": null,
   "id": "b1c92e1b-b0e1-4383-8352-53494c5c0e3a",
   "metadata": {},
   "outputs": [],
   "source": [
    "l = fighter_urls[0]"
   ]
  },
  {
   "cell_type": "code",
   "execution_count": null,
   "id": "c2e132c5-89be-44ef-99d2-31e34037cd00",
   "metadata": {},
   "outputs": [],
   "source": [
    "names = {\" \".join(l.split(\"/\")[-1].split(\"-\")[:-1]): l for l in xml.xpath(\"//loc/text()\")}"
   ]
  },
  {
   "cell_type": "code",
   "execution_count": null,
   "id": "ceda4c63-3371-4228-b232-0bd23e136f83",
   "metadata": {},
   "outputs": [],
   "source": [
    "names"
   ]
  },
  {
   "cell_type": "code",
   "execution_count": null,
   "id": "9d6dab9d-0f0d-417d-b36a-5af8bb6b1c8c",
   "metadata": {},
   "outputs": [],
   "source": [
    "import json\n",
    "with open(\"url_mapping.json\", \"w\") as f:\n",
    "    json.dump(names, f)\n"
   ]
  },
  {
   "cell_type": "code",
   "execution_count": 215,
   "id": "63228393-65a3-4916-8a07-aa961e9bab7a",
   "metadata": {},
   "outputs": [],
   "source": [
    "with open(\"url_mapping.json\", \"r\") as f:\n",
    "    new = json.load(f)"
   ]
  },
  {
   "cell_type": "code",
   "execution_count": null,
   "id": "7e78faa6-3424-4608-ac0f-8162a4e4d1ef",
   "metadata": {},
   "outputs": [],
   "source": [
    "len(new)"
   ]
  },
  {
   "cell_type": "code",
   "execution_count": 135,
   "id": "834e7a93-0268-4ea3-bf08-c9cf2ae7af7a",
   "metadata": {},
   "outputs": [],
   "source": [
    "import requests as req\n",
    "from lxml import html\n",
    "import datetime as dt\n",
    "import math\n",
    "\n",
    "def search(query):\n",
    "    url = 'https://www.google.com/search?q=' + query\n",
    "    headers = {\"User-Agent\": \"Mozilla/5.0 (Windows NT 10.0; Win64; x64) AppleWebKit/537.36 (KHTML, like Gecko) Chrome/111.0.0.0 Safari/537.36\"}\n",
    "    htm = req.get(url, headers = headers)\n",
    "    xml = html.document_fromstring(htm.content)\n",
    "    return xml.xpath(\"//h3/parent::a/@href\")\n"
   ]
  },
  {
   "cell_type": "code",
   "execution_count": 65,
   "id": "0323861e-b342-43ee-a295-b44989c6c561",
   "metadata": {},
   "outputs": [],
   "source": [
    "def get_sherdog_link(query):\n",
    "    possible_urls = search(query+\" Sherdog\")\n",
    "    for url in possible_urls:\n",
    "        if (\"sherdog.com/fighter/\" in url) and (not \"/news/\" in url):\n",
    "            return url\n",
    "    raise BaseException(\"Sherdog link not found !\")\n",
    "    \n",
    "def get_ufc_link(query):\n",
    "    possible_urls = search(query+\" UFC\")\n",
    "    for url in possible_urls:\n",
    "        if (\"ufc.com/athlete/\" in url):\n",
    "            return url\n",
    "    raise BaseException(\"UFC link not found !\")"
   ]
  },
  {
   "cell_type": "code",
   "execution_count": 32,
   "id": "9a44be73-7275-4f05-a95e-a64f284d3373",
   "metadata": {},
   "outputs": [
    {
     "data": {
      "text/plain": [
       "'https://www.ufc.com/athlete/jon-jones'"
      ]
     },
     "execution_count": 32,
     "metadata": {},
     "output_type": "execute_result"
    }
   ],
   "source": [
    "get_ufc_link(\"Jon Jones\")"
   ]
  },
  {
   "cell_type": "code",
   "execution_count": 67,
   "id": "9c33ec5e-a5ef-4769-8301-254ed9e49b76",
   "metadata": {},
   "outputs": [],
   "source": [
    "def get_fighter(query):\n",
    "    sherdog_link = get_sherdog_link(query)\n",
    "    ufc_link = get_ufc_link(query)\n",
    "    \n",
    "    fighter = parse_sherdog_fighter(sherdog_link)\n",
    "    fighter.update(get_ufc_stats(ufc_link))\n",
    "    return fighter"
   ]
  },
  {
   "cell_type": "code",
   "execution_count": 68,
   "id": "084b327c-12d0-42c1-a1e0-000435f7b34c",
   "metadata": {},
   "outputs": [
    {
     "name": "stdout",
     "output_type": "stream",
     "text": [
      "https://www.sherdog.com/fighter/Joanna-Jedrzejczyk-101411\n"
     ]
    },
    {
     "ename": "BaseException",
     "evalue": "UFC link not found !",
     "output_type": "error",
     "traceback": [
      "\u001b[1;31m---------------------------------------------------------------------------\u001b[0m",
      "\u001b[1;31mBaseException\u001b[0m                             Traceback (most recent call last)",
      "Input \u001b[1;32mIn [68]\u001b[0m, in \u001b[0;36m<cell line: 1>\u001b[1;34m()\u001b[0m\n\u001b[1;32m----> 1\u001b[0m \u001b[43mget_fighter\u001b[49m\u001b[43m(\u001b[49m\u001b[38;5;124;43m'\u001b[39;49m\u001b[38;5;124;43mJo\u001b[39;49m\u001b[38;5;124;43m'\u001b[39;49m\u001b[43m)\u001b[49m\n",
      "Input \u001b[1;32mIn [67]\u001b[0m, in \u001b[0;36mget_fighter\u001b[1;34m(query)\u001b[0m\n\u001b[0;32m      2\u001b[0m sherdog_link \u001b[38;5;241m=\u001b[39m get_sherdog_link(query)\n\u001b[0;32m      3\u001b[0m \u001b[38;5;28mprint\u001b[39m(sherdog_link)\n\u001b[1;32m----> 4\u001b[0m ufc_link \u001b[38;5;241m=\u001b[39m \u001b[43mget_ufc_link\u001b[49m\u001b[43m(\u001b[49m\u001b[43mquery\u001b[49m\u001b[43m)\u001b[49m\n\u001b[0;32m      6\u001b[0m fighter \u001b[38;5;241m=\u001b[39m parse_sherdog_fighter(sherdog_link)\n\u001b[0;32m      7\u001b[0m fighter\u001b[38;5;241m.\u001b[39mupdate(get_ufc_stats(ufc_link))\n",
      "Input \u001b[1;32mIn [65]\u001b[0m, in \u001b[0;36mget_ufc_link\u001b[1;34m(query)\u001b[0m\n\u001b[0;32m     11\u001b[0m     \u001b[38;5;28;01mif\u001b[39;00m (\u001b[38;5;124m\"\u001b[39m\u001b[38;5;124mufc.com/athlete/\u001b[39m\u001b[38;5;124m\"\u001b[39m \u001b[38;5;129;01min\u001b[39;00m url):\n\u001b[0;32m     12\u001b[0m         \u001b[38;5;28;01mreturn\u001b[39;00m url\n\u001b[1;32m---> 13\u001b[0m \u001b[38;5;28;01mraise\u001b[39;00m \u001b[38;5;167;01mBaseException\u001b[39;00m(\u001b[38;5;124m\"\u001b[39m\u001b[38;5;124mUFC link not found !\u001b[39m\u001b[38;5;124m\"\u001b[39m)\n",
      "\u001b[1;31mBaseException\u001b[0m: UFC link not found !"
     ]
    }
   ],
   "source": [
    "get_fighter('Jo')"
   ]
  },
  {
   "cell_type": "code",
   "execution_count": 62,
   "id": "19762b90-02f2-4d88-b773-38b2ab91bee5",
   "metadata": {},
   "outputs": [],
   "source": [
    "def get_ufc_stats(url):\n",
    "    headers = {\"User-Agent\": \"Mozilla/5.0 (Windows NT 10.0; Win64; x64) AppleWebKit/537.36 (KHTML, like Gecko) Chrome/111.0.0.0 Safari/537.36\"}\n",
    "    htm = req.get(url, headers = headers)\n",
    "    xml = html.document_fromstring(htm.content)\n",
    "\n",
    "    str_tds = xml.xpath(\"//dd/text()\")\n",
    "    distance = xml.xpath(\"//div[@class='c-stat-3bar__value']/text()\")\n",
    "    stats = xml.xpath(\"//div[@class='c-stat-compare__number']/text()\")\n",
    "\n",
    "    fighter = {\n",
    "        'strikes': {\n",
    "            'attempted': str_tds[1],\n",
    "            'landed': str_tds[0],\n",
    "            'standing': distance[0].split(\" \")[0],\n",
    "            'clinch': distance[1].split(\" \")[0],\n",
    "            'ground': distance[2].split(\" \")[0],\n",
    "            'striking defense': stats[4].strip(),\n",
    "            'strikes per minute': stats[0].strip()\n",
    "        },\n",
    "        'takedowns': {\n",
    "            'attempted': str_tds[3],\n",
    "            'landed': str_tds[2],\n",
    "            'takedown defense':stats[5].strip(),\n",
    "            'subs per 15min': stats[3].strip()\n",
    "        }\n",
    "    }\n",
    "    return fighter"
   ]
  },
  {
   "cell_type": "code",
   "execution_count": 61,
   "id": "21690191-b7c0-4a6e-bf1e-9aac93486bd9",
   "metadata": {},
   "outputs": [],
   "source": [
    "get_ufc_stats('https://www.ufc.com/athlete/jon-jones')"
   ]
  },
  {
   "cell_type": "code",
   "execution_count": 43,
   "id": "13fb71f6-7f5d-4560-87d3-309afdc3f805",
   "metadata": {},
   "outputs": [
    {
     "data": {
      "text/plain": [
       "['4.29\\n              ',\n",
       " '2.22\\n          ',\n",
       " '1.93\\n              ',\n",
       " '0.48\\n          ',\n",
       " '64\\n                  ',\n",
       " '95\\n                      ',\n",
       " '0.22\\n              ',\n",
       " '14:53\\n          ']"
      ]
     },
     "execution_count": 43,
     "metadata": {},
     "output_type": "execute_result"
    }
   ],
   "source": [
    "xml.xpath(\"//div[@class='c-stat-compare__number']/text()\")"
   ]
  },
  {
   "cell_type": "code",
   "execution_count": 44,
   "id": "903d9484-6e2c-462a-bcc0-b9c51dbbd586",
   "metadata": {},
   "outputs": [
    {
     "data": {
      "text/plain": [
       "['Sig. Str. Landed',\n",
       " 'Sig. Str. Absorbed',\n",
       " 'Takedown avg',\n",
       " 'Submission avg',\n",
       " 'Sig. Str. Defense',\n",
       " 'Takedown Defense',\n",
       " 'Knockdown Avg',\n",
       " 'Average fight time']"
      ]
     },
     "execution_count": 44,
     "metadata": {},
     "output_type": "execute_result"
    }
   ],
   "source": [
    "xml.xpath(\"//div[@class='c-stat-compare__label']/text()\")"
   ]
  },
  {
   "cell_type": "code",
   "execution_count": 55,
   "id": "e8911be9-0e0a-476f-af2b-4b6eb42e9672",
   "metadata": {},
   "outputs": [
    {
     "data": {
      "text/plain": [
       "{'strikes': {'attempted': '2536',\n",
       "  'landed': '1468',\n",
       "  'standing': '958',\n",
       "  'clinch': '248',\n",
       "  'ground': '262',\n",
       "  'striking defense': '64'},\n",
       " 'takedowns': {'attempted': '97',\n",
       "  'landed': '36',\n",
       "  'takedown defense': '95',\n",
       "  'subs per 15min': '0.48'}}"
      ]
     },
     "execution_count": 55,
     "metadata": {},
     "output_type": "execute_result"
    }
   ],
   "source": [
    "fighter"
   ]
  },
  {
   "cell_type": "code",
   "execution_count": 45,
   "id": "0ee58d3d-d706-4b75-832a-3467b3d2d072",
   "metadata": {},
   "outputs": [
    {
     "data": {
      "text/plain": [
       "342.1911421911422"
      ]
     },
     "execution_count": 45,
     "metadata": {},
     "output_type": "execute_result"
    }
   ],
   "source": [
    "1468/4.29"
   ]
  },
  {
   "cell_type": "code",
   "execution_count": 48,
   "id": "3ee5b75e-93bb-49d8-97cc-4b682872d816",
   "metadata": {},
   "outputs": [
    {
     "data": {
      "text/plain": [
       "279.79274611398966"
      ]
     },
     "execution_count": 48,
     "metadata": {},
     "output_type": "execute_result"
    }
   ],
   "source": [
    "36/(1.93/15)"
   ]
  },
  {
   "cell_type": "code",
   "execution_count": 1,
   "id": "ad65c821-1ad2-46e8-8abb-8103dbe2433d",
   "metadata": {},
   "outputs": [
    {
     "name": "stderr",
     "output_type": "stream",
     "text": [
      "C:\\Users\\user\\AppData\\Roaming\\Python\\Python310\\site-packages\\requests\\__init__.py:102: RequestsDependencyWarning: urllib3 (1.26.8) or chardet (5.0.0)/charset_normalizer (2.0.11) doesn't match a supported version!\n",
      "  warnings.warn(\"urllib3 ({}) or chardet ({})/charset_normalizer ({}) doesn't match a supported \"\n"
     ]
    }
   ],
   "source": [
    "from fighter import get_fighter"
   ]
  },
  {
   "cell_type": "code",
   "execution_count": null,
   "id": "153a09b4-1414-4547-b80e-c2c46ca67138",
   "metadata": {},
   "outputs": [],
   "source": [
    "get_fighter('Corey Sandhagen')"
   ]
  },
  {
   "cell_type": "code",
   "execution_count": 24,
   "id": "a7c52d6c-7590-4afb-bc94-87b3c8e4896c",
   "metadata": {},
   "outputs": [],
   "source": [
    "def get_upcoming_event_links():\n",
    "    url = 'https://www.ufc.com/events'\n",
    "    headers = {\"User-Agent\": \"Mozilla/5.0 (Windows NT 10.0; Win64; x64) AppleWebKit/537.36 (KHTML, like Gecko) Chrome/111.0.0.0 Safari/537.36\"}\n",
    "    htm = req.get(url, headers = headers)\n",
    "    xml = html.document_fromstring(htm.content)\n",
    "    return [\"https://www.ufc.com/\"+x for x in xml.xpath(\"//details[@id='events-list-upcoming']/div/div/div/div/div/section/ul/li/article/div[1]/div/a/@href\")]"
   ]
  },
  {
   "cell_type": "code",
   "execution_count": 25,
   "id": "6c3e8fb3-4e49-4f5f-bd32-ee7b0a9a8775",
   "metadata": {},
   "outputs": [
    {
     "data": {
      "text/plain": [
       "['https://www.ufc.com//event/ufc-fight-night-july-15-2023',\n",
       " 'https://www.ufc.com//event/ufc-fight-night-july-22-2023',\n",
       " 'https://www.ufc.com//event/ufc-291',\n",
       " 'https://www.ufc.com//event/ufc-fight-night-august-05-2023',\n",
       " 'https://www.ufc.com//event/ufc-fight-night-august-12-2023',\n",
       " 'https://www.ufc.com//event/ufc-292',\n",
       " 'https://www.ufc.com//event/ufc-fight-night-august-26-2023',\n",
       " 'https://www.ufc.com//event/ufc-fight-night-september-02-2023']"
      ]
     },
     "execution_count": 25,
     "metadata": {},
     "output_type": "execute_result"
    }
   ],
   "source": [
    "get_upcoming_event_links()"
   ]
  },
  {
   "cell_type": "code",
   "execution_count": 142,
   "id": "eda71e35-79e2-40bf-9c42-e7bc10096471",
   "metadata": {},
   "outputs": [],
   "source": [
    "url = 'https://www.ufc.com/event/ufc-280'\n",
    "headers = {\"User-Agent\": \"Mozilla/5.0 (Windows NT 10.0; Win64; x64) AppleWebKit/537.36 (KHTML, like Gecko) Chrome/111.0.0.0 Safari/537.36\"}\n",
    "htm = req.get(url, headers = headers)\n",
    "xml = html.document_fromstring(htm.content)"
   ]
  },
  {
   "cell_type": "code",
   "execution_count": 30,
   "id": "214bc02b-0e5f-444f-bfd6-89db11af786d",
   "metadata": {},
   "outputs": [],
   "source": [
    "fights_html = xml.xpath(\"//div[@class='fight-card']/div/div/section/ul/li\")"
   ]
  },
  {
   "cell_type": "code",
   "execution_count": 169,
   "id": "9c37f356-f3ea-41af-bbd8-82405d0c7354",
   "metadata": {},
   "outputs": [],
   "source": [
    "def get_upcoming_event_links():\n",
    "    url = 'https://www.ufc.com/events'\n",
    "    headers = {\"User-Agent\": \"Mozilla/5.0 (Windows NT 10.0; Win64; x64) AppleWebKit/537.36 (KHTML, like Gecko) Chrome/111.0.0.0 Safari/537.36\"}\n",
    "    htm = req.get(url, headers = headers)\n",
    "    xml = html.document_fromstring(htm.content)\n",
    "    return [\"https://www.ufc.com/\"+x for x in xml.xpath(\"//details[@id='events-list-upcoming']/div/div/div/div/div/section/ul/li/article/div[1]/div/a/@href\")]\n",
    "\n",
    "def get_ufc_link(query):\n",
    "    possible_urls = search(query+\" UFC\")\n",
    "    for url in possible_urls:\n",
    "        if (\"ufc.com/event/\" in url):\n",
    "            return url\n",
    "    raise BaseException(\"UFC link not found !\")\n",
    "    \n",
    "def get_ranking(fight, corner):\n",
    "    if corner == 'red':\n",
    "        path = \"div/div/div/div[2]/div[2]/div[2]/div[1]/span/text()\"\n",
    "    else:\n",
    "        path = \"div/div/div/div[2]/div[2]/div[2]/div[2]/span/text()\"\n",
    "        \n",
    "    try:\n",
    "        return fight.xpath(path)[0][1:]\n",
    "    except IndexError:\n",
    "        return \"Unranked\"\n",
    "    \n",
    "def get_name(fight, corner):\n",
    "    if corner == 'red':\n",
    "        path = \"div/div/div/div[2]/div[2]/div[5]/div[1]/a/span/text()\"\n",
    "    else:\n",
    "        path = \"div/div/div/div[2]/div[2]/div[5]/div[3]/a/span/text()\"\n",
    "        \n",
    "    name = \" \".join(fight.xpath(path))\n",
    "    \n",
    "    if name == '':\n",
    "        path = path.replace(\"/span\", \"\")\n",
    "        name = \" \".join(fight.xpath(path)).strip()\n",
    "    \n",
    "    return name\n",
    "\n",
    "def parse_event(url, past=True):\n",
    "    \n",
    "    headers = {\"User-Agent\": \"Mozilla/5.0 (Windows NT 10.0; Win64; x64) AppleWebKit/537.36 (KHTML, like Gecko) Chrome/111.0.0.0 Safari/537.36\"}\n",
    "    htm = req.get(url, headers = headers)\n",
    "    xml = html.document_fromstring(htm.content)\n",
    "    fights_html = xml.xpath(\"//div[@class='fight-card']/div/div/section/ul/li\")\n",
    "    \n",
    "    prefix = xml.xpath(\"//div[@class='c-hero__header']/div[1]/div/h1/text()\")[0].strip()\n",
    "    names = xml.xpath(\"//div[@class='c-hero__header']/div[2]/span/span/text()\")\n",
    "\n",
    "    name = f\"{prefix}: {names[0].strip()} vs. {names[-1].strip()}\"\n",
    "\n",
    "    date = dt.datetime.fromtimestamp(int(xml.xpath(\"//div[@class='c-hero__bottom-text']/div[1]/@data-timestamp\")[0]))\n",
    "    date = date.strftime(\"%Y-%m-%d\")\n",
    "    location = xml.xpath(\"//div[@class='c-hero__bottom-text']/div[2]/div/text()\")[0].split(\",\")\n",
    "\n",
    "    event = {\n",
    "        'name': name,\n",
    "        'date': date,\n",
    "        'location': location[1].strip(),\n",
    "        'venue': location[0].strip(),\n",
    "        'fights': []\n",
    "    }\n",
    "    for fight in fights_html:\n",
    "        this_fight = {\n",
    "                'weightclass': fight.xpath(\"div/div/div/div[2]/div[2]/div[1]/div[2]/text()\")[0][:-5],\n",
    "                'red corner': {\n",
    "                    'name': get_name(fight, 'red'),\n",
    "                    'ranking': get_ranking(fight, 'red'),\n",
    "                    'odds': fight.xpath(\"div/div/div/div[4]/div[2]/span[1]/span/text()\")[0],\n",
    "                    'link': fight.xpath(\"div/div/div/div[2]/div[2]/div[5]/div[1]/a/@href\")[0]\n",
    "                },\n",
    "                'blue corner': {\n",
    "                    'name': get_name(fight, 'blue'),\n",
    "                    'ranking': get_ranking(fight, 'blue'),\n",
    "                    'odds': fight.xpath(\"div/div/div/div[4]/div[2]/span[3]/span/text()\")[0],\n",
    "                    'link': fight.xpath(\"div/div/div/div[2]/div[2]/div[5]/div[3]/a/@href\")[0]            \n",
    "                }\n",
    "            }\n",
    "        if past:\n",
    "            result = fight.xpath(\"div/div/div/div[2]//div[@class='c-listing-fight__outcome-wrapper']/div/text()\")\n",
    "            method = fight.xpath(\"div//div[@class='c-listing-fight__result-text method']/text()\")\n",
    "            \n",
    "            finished_round = fight.xpath(\"div//div[@class='c-listing-fight__result-text round']/text()\")\n",
    "            finished_time = fight.xpath(\"div//div[@class='c-listing-fight__result-text time']/text()\")\n",
    "            \n",
    "            this_fight['round'] = finished_round[0]\n",
    "            this_fight['time'] = finished_time[0]\n",
    "            this_fight['method'] = method[0]\n",
    "            this_fight['red corner']['result'] = result[0].strip()\n",
    "            this_fight['blue corner']['result'] = result[1].strip()\n",
    "        event['fights'].append(this_fight)\n",
    "    return event\n",
    "\n",
    "def get_upcoming_events():\n",
    "    links = get_upcoming_event_links()\n",
    "    \n",
    "    results = {}\n",
    "    \n",
    "    for url in links:\n",
    "        event = parse_event(url, False)\n",
    "        results[event['name']] = event\n",
    "    return results\n"
   ]
  },
  {
   "cell_type": "code",
   "execution_count": 137,
   "id": "effb7597-d405-43a6-b2dd-91ff01a37aaf",
   "metadata": {},
   "outputs": [],
   "source": [
    "def get_ufc_link(query):\n",
    "    possible_urls = search(query+\" UFC\")\n",
    "    for url in possible_urls:\n",
    "        if (\"ufc.com/event/\" in url):\n",
    "            return url\n",
    "    raise BaseException(\"UFC link not found !\")"
   ]
  },
  {
   "cell_type": "code",
   "execution_count": 140,
   "id": "9cf8d1e8-af01-4f3c-9b31-f4227b17b5ff",
   "metadata": {},
   "outputs": [],
   "source": [
    "def get_event(query):\n",
    "    link = get_ufc_link(query)\n",
    "    return parse_event(link)"
   ]
  },
  {
   "cell_type": "code",
   "execution_count": 166,
   "id": "e4b4473f-7d64-4e7d-be68-3abe95935e03",
   "metadata": {},
   "outputs": [
    {
     "data": {
      "text/plain": [
       "['Submission', 'Submission']"
      ]
     },
     "execution_count": 166,
     "metadata": {},
     "output_type": "execute_result"
    }
   ],
   "source": [
    "fight.xpath(\"div//div[@class='c-listing-fight__result-text method']/text()\")"
   ]
  },
  {
   "cell_type": "code",
   "execution_count": null,
   "id": "56d69294-bf17-4b08-b897-d055b67901e6",
   "metadata": {},
   "outputs": [],
   "source": [
    "import fighter as ft\n",
    "ft.get_fighter(\"Frankie Edgar\")"
   ]
  },
  {
   "cell_type": "code",
   "execution_count": 4,
   "id": "63a1b127-96bf-4a9a-afb8-39c69f4fc218",
   "metadata": {},
   "outputs": [
    {
     "ename": "BaseException",
     "evalue": "UFC link not found !",
     "output_type": "error",
     "traceback": [
      "\u001b[1;31m---------------------------------------------------------------------------\u001b[0m",
      "\u001b[1;31mBaseException\u001b[0m                             Traceback (most recent call last)",
      "Input \u001b[1;32mIn [4]\u001b[0m, in \u001b[0;36m<cell line: 1>\u001b[1;34m()\u001b[0m\n\u001b[1;32m----> 1\u001b[0m \u001b[43mft\u001b[49m\u001b[38;5;241;43m.\u001b[39;49m\u001b[43mget_ufc_link\u001b[49m\u001b[43m(\u001b[49m\u001b[38;5;124;43m\"\u001b[39;49m\u001b[38;5;124;43mFrankie Edgar\u001b[39;49m\u001b[38;5;124;43m\"\u001b[39;49m\u001b[43m)\u001b[49m\n",
      "File \u001b[1;32m~\\Desktop\\Sherdog\\fighter.py:146\u001b[0m, in \u001b[0;36mget_ufc_link\u001b[1;34m(query)\u001b[0m\n\u001b[0;32m    144\u001b[0m     \u001b[38;5;28;01mif\u001b[39;00m (\u001b[38;5;124m\"\u001b[39m\u001b[38;5;124mufc.com/event/\u001b[39m\u001b[38;5;124m\"\u001b[39m \u001b[38;5;129;01min\u001b[39;00m url):\n\u001b[0;32m    145\u001b[0m         \u001b[38;5;28;01mreturn\u001b[39;00m url\n\u001b[1;32m--> 146\u001b[0m \u001b[38;5;28;01mraise\u001b[39;00m \u001b[38;5;167;01mBaseException\u001b[39;00m(\u001b[38;5;124m\"\u001b[39m\u001b[38;5;124mUFC link not found !\u001b[39m\u001b[38;5;124m\"\u001b[39m)\n",
      "\u001b[1;31mBaseException\u001b[0m: UFC link not found !"
     ]
    }
   ],
   "source": [
    "ft.get_ufc_link(\"Frankie Edgar\")"
   ]
  },
  {
   "cell_type": "code",
   "execution_count": 2,
   "id": "18093c11-31bd-4bc7-b3a8-2eb059eab3aa",
   "metadata": {},
   "outputs": [
    {
     "data": {
      "text/plain": [
       "{'UFC Fight Night: Holm vs. Bueno Silva': {'name': 'UFC Fight Night: Holm vs. Bueno Silva',\n",
       "  'date': '2023-07-15',\n",
       "  'location': 'Las Vegas United States',\n",
       "  'venue': 'UFC APEX',\n",
       "  'fights': [{'weightclass': \"Women's Bantamweight\",\n",
       "    'red corner': {'name': 'Holly Holm',\n",
       "     'ranking': '3',\n",
       "     'odds': '-170',\n",
       "     'link': 'https://www.ufc.com/athlete/holly-holm'},\n",
       "    'blue corner': {'name': 'Mayra Bueno Silva',\n",
       "     'ranking': '10',\n",
       "     'odds': '+145',\n",
       "     'link': 'https://www.ufc.com/athlete/mayra-bueno-silva'}},\n",
       "   {'weightclass': 'Welterweight',\n",
       "    'red corner': {'name': 'Jack Della Maddalena',\n",
       "     'ranking': '14',\n",
       "     'odds': '-625',\n",
       "     'link': 'https://www.ufc.com/athlete/sara-elpar-0'},\n",
       "    'blue corner': {'name': 'Bassil Hafez',\n",
       "     'ranking': 'Unranked',\n",
       "     'odds': '+440',\n",
       "     'link': 'https://www.ufc.com/athlete/bassil-hafez'}},\n",
       "   {'weightclass': 'Lightweight',\n",
       "    'red corner': {'name': 'Ottman Azaitar',\n",
       "     'ranking': 'Unranked',\n",
       "     'odds': '-105',\n",
       "     'link': 'https://www.ufc.com/athlete/ottman-azaitar'},\n",
       "    'blue corner': {'name': 'Francisco Prado',\n",
       "     'ranking': 'Unranked',\n",
       "     'odds': '-115',\n",
       "     'link': 'https://www.ufc.com/athlete/francisco-prado'}},\n",
       "   {'weightclass': 'Middleweight',\n",
       "    'red corner': {'name': 'Albert Duraev',\n",
       "     'ranking': 'Unranked',\n",
       "     'odds': '+125',\n",
       "     'link': 'https://www.ufc.com/athlete/kori-makkenna-8'},\n",
       "    'blue corner': {'name': 'Junyong Park',\n",
       "     'ranking': 'Unranked',\n",
       "     'odds': '-145',\n",
       "     'link': 'https://www.ufc.com/athlete/jun-yong-park'}},\n",
       "   {'weightclass': \"Women's Featherweight\",\n",
       "    'red corner': {'name': 'Norma Dumont',\n",
       "     'ranking': '13',\n",
       "     'odds': '-140',\n",
       "     'link': 'https://www.ufc.com/athlete/norma-dumont'},\n",
       "    'blue corner': {'name': 'Chelsea Chandler',\n",
       "     'ranking': '15',\n",
       "     'odds': '+120',\n",
       "     'link': 'https://www.ufc.com/athlete/chelsea-chandler'}},\n",
       "   {'weightclass': 'Lightweight',\n",
       "    'red corner': {'name': 'Nazim Sadykhov',\n",
       "     'ranking': 'Unranked',\n",
       "     'odds': '-',\n",
       "     'link': 'https://www.ufc.com/athlete/nazim-sadykhov'},\n",
       "    'blue corner': {'name': 'Terrance McKinney',\n",
       "     'ranking': 'Unranked',\n",
       "     'odds': '-',\n",
       "     'link': 'https://www.ufc.com/athlete/terrance-mckinney'}},\n",
       "   {'weightclass': 'Featherweight',\n",
       "    'red corner': {'name': 'Tucker Lutz',\n",
       "     'ranking': 'Unranked',\n",
       "     'odds': '+140',\n",
       "     'link': 'https://www.ufc.com/athlete/tucker-lutz'},\n",
       "    'blue corner': {'name': 'Melsik Baghdasaryan',\n",
       "     'ranking': 'Unranked',\n",
       "     'odds': '-165',\n",
       "     'link': 'https://www.ufc.com/athlete/melsik-baghdasaryan'}},\n",
       "   {'weightclass': \"Women's Strawweight\",\n",
       "    'red corner': {'name': 'Viktoriia Dudakova',\n",
       "     'ranking': 'Unranked',\n",
       "     'odds': '-205',\n",
       "     'link': 'https://www.ufc.com/athlete/viktoriia-dudakova'},\n",
       "    'blue corner': {'name': 'Istela Nunes',\n",
       "     'ranking': 'Unranked',\n",
       "     'odds': '+175',\n",
       "     'link': 'https://www.ufc.com/athlete/istela-nunes'}},\n",
       "   {'weightclass': 'Featherweight',\n",
       "    'red corner': {'name': 'Austin Lingo',\n",
       "     'ranking': 'Unranked',\n",
       "     'odds': '+175',\n",
       "     'link': 'https://www.ufc.com/athlete/austin-lingo'},\n",
       "    'blue corner': {'name': 'Melquizael Costa',\n",
       "     'ranking': 'Unranked',\n",
       "     'odds': '-205',\n",
       "     'link': 'https://www.ufc.com/athlete/melquizael-costa'}},\n",
       "   {'weightclass': 'Lightweight',\n",
       "    'red corner': {'name': 'Evan Elder',\n",
       "     'ranking': 'Unranked',\n",
       "     'odds': '-295',\n",
       "     'link': 'https://www.ufc.com/athlete/evan-elder'},\n",
       "    'blue corner': {'name': 'Genaro Valdez',\n",
       "     'ranking': 'Unranked',\n",
       "     'odds': '+245',\n",
       "     'link': 'https://www.ufc.com/athlete/mark-shtrigl-0'}},\n",
       "   {'weightclass': 'Flyweight',\n",
       "    'red corner': {'name': 'Tyson Nam',\n",
       "     'ranking': 'Unranked',\n",
       "     'odds': '+310',\n",
       "     'link': 'https://www.ufc.com/athlete/tyson-nam'},\n",
       "    'blue corner': {'name': 'Azat Maksum',\n",
       "     'ranking': 'Unranked',\n",
       "     'odds': '-410',\n",
       "     'link': 'https://www.ufc.com/athlete/azat-maksum'}},\n",
       "   {'weightclass': 'Lightweight',\n",
       "    'red corner': {'name': 'Alexander Munoz',\n",
       "     'ranking': 'Unranked',\n",
       "     'odds': '-170',\n",
       "     'link': 'https://www.ufc.com/athlete/alexander-munoz'},\n",
       "    'blue corner': {'name': 'Carl Deaton',\n",
       "     'ranking': 'Unranked',\n",
       "     'odds': '+145',\n",
       "     'link': 'https://www.ufc.com/athlete/carl-deaton'}},\n",
       "   {'weightclass': \"Women's Bantamweight\",\n",
       "    'red corner': {'name': 'Ashlee Evans-Smith',\n",
       "     'ranking': 'Unranked',\n",
       "     'odds': '+170',\n",
       "     'link': 'https://www.ufc.com/athlete/ashlee-evans-smith'},\n",
       "    'blue corner': {'name': 'Ailin Perez',\n",
       "     'ranking': 'Unranked',\n",
       "     'odds': '-200',\n",
       "     'link': 'https://www.ufc.com/athlete/ailin-perez'}}]},\n",
       " 'UFC Fight Night: Aspinall vs. Tybura': {'name': 'UFC Fight Night: Aspinall vs. Tybura',\n",
       "  'date': '2023-07-22',\n",
       "  'location': 'London United Kingdom',\n",
       "  'venue': 'O2 Arena',\n",
       "  'fights': [{'weightclass': 'Heavyweight',\n",
       "    'red corner': {'name': 'Tom Aspinall',\n",
       "     'ranking': '5',\n",
       "     'odds': '-440',\n",
       "     'link': 'https://www.ufc.com/athlete/tom-aspinall'},\n",
       "    'blue corner': {'name': 'Marcin Tybura',\n",
       "     'ranking': '10',\n",
       "     'odds': '+330',\n",
       "     'link': 'https://www.ufc.com/athlete/marcin-tybura'}},\n",
       "   {'weightclass': \"Women's Flyweight\",\n",
       "    'red corner': {'name': 'Molly McCann',\n",
       "     'ranking': 'Unranked',\n",
       "     'odds': '-',\n",
       "     'link': 'https://www.ufc.com/athlete/molly-mccann'},\n",
       "    'blue corner': {'name': 'Julija Stoliarenko',\n",
       "     'ranking': 'Unranked',\n",
       "     'odds': '-',\n",
       "     'link': 'https://www.ufc.com/athlete/julija-stoliarenko'}},\n",
       "   {'weightclass': 'Featherweight',\n",
       "    'red corner': {'name': 'Nathaniel Wood',\n",
       "     'ranking': 'Unranked',\n",
       "     'odds': '-',\n",
       "     'link': 'https://www.ufc.com/athlete/nathaniel-wood'},\n",
       "    'blue corner': {'name': 'Andre Fili',\n",
       "     'ranking': 'Unranked',\n",
       "     'odds': '-',\n",
       "     'link': 'https://www.ufc.com/athlete/andre-fili'}},\n",
       "   {'weightclass': 'Middleweight',\n",
       "    'red corner': {'name': 'Paul Craig',\n",
       "     'ranking': '9',\n",
       "     'odds': '-',\n",
       "     'link': 'https://www.ufc.com/athlete/paul-craig'},\n",
       "    'blue corner': {'name': 'Andre Muniz',\n",
       "     'ranking': '14',\n",
       "     'odds': '-',\n",
       "     'link': 'https://www.ufc.com/athlete/andre-muniz'}},\n",
       "   {'weightclass': 'Lightweight',\n",
       "    'red corner': {'name': 'Jai Herbert',\n",
       "     'ranking': 'Unranked',\n",
       "     'odds': '-',\n",
       "     'link': 'https://www.ufc.com/athlete/jai-herbert'},\n",
       "    'blue corner': {'name': 'Farès Ziam',\n",
       "     'ranking': 'Unranked',\n",
       "     'odds': '-',\n",
       "     'link': 'https://www.ufc.com/athlete/fares-ziam'}},\n",
       "   {'weightclass': 'Featherweight',\n",
       "    'red corner': {'name': 'Lerone Murphy',\n",
       "     'ranking': 'Unranked',\n",
       "     'odds': '-',\n",
       "     'link': 'https://www.ufc.com/athlete/lerone-murphy'},\n",
       "    'blue corner': {'name': 'Josh Culibao',\n",
       "     'ranking': 'Unranked',\n",
       "     'odds': '-',\n",
       "     'link': 'https://www.ufc.com/athlete/josh-culibao'}},\n",
       "   {'weightclass': 'Bantamweight',\n",
       "    'red corner': {'name': 'Davey Grant',\n",
       "     'ranking': 'Unranked',\n",
       "     'odds': '-',\n",
       "     'link': 'https://www.ufc.com/athlete/davey-grant'},\n",
       "    'blue corner': {'name': 'Daniel Marcos',\n",
       "     'ranking': 'Unranked',\n",
       "     'odds': '-',\n",
       "     'link': 'https://www.ufc.com/athlete/daniel-marcos'}},\n",
       "   {'weightclass': 'Welterweight',\n",
       "    'red corner': {'name': 'Danny Roberts',\n",
       "     'ranking': 'Unranked',\n",
       "     'odds': '-',\n",
       "     'link': 'https://www.ufc.com/athlete/danny-roberts'},\n",
       "    'blue corner': {'name': 'Jonny Parsons',\n",
       "     'ranking': 'Unranked',\n",
       "     'odds': '-',\n",
       "     'link': 'https://www.ufc.com/athlete/norma-dyumont-viana-3'}},\n",
       "   {'weightclass': 'Lightweight',\n",
       "    'red corner': {'name': 'Marc Diakiese',\n",
       "     'ranking': 'Unranked',\n",
       "     'odds': '-',\n",
       "     'link': 'https://www.ufc.com/athlete/marc-diakiese'},\n",
       "    'blue corner': {'name': 'Joel Álvarez',\n",
       "     'ranking': 'Unranked',\n",
       "     'odds': '-',\n",
       "     'link': 'https://www.ufc.com/athlete/joel-alvarez'}},\n",
       "   {'weightclass': 'Heavyweight',\n",
       "    'red corner': {'name': 'Mick Parkin',\n",
       "     'ranking': 'Unranked',\n",
       "     'odds': '-',\n",
       "     'link': 'https://www.ufc.com/athlete/mick-parkin'},\n",
       "    'blue corner': {'name': 'Jamal Pogues',\n",
       "     'ranking': 'Unranked',\n",
       "     'odds': '-',\n",
       "     'link': 'https://www.ufc.com/athlete/jamal-pogues'}},\n",
       "   {'weightclass': 'Middleweight',\n",
       "    'red corner': {'name': 'Makhmud Muradov',\n",
       "     'ranking': 'Unranked',\n",
       "     'odds': '-',\n",
       "     'link': 'https://www.ufc.com/athlete/makhmud-muradov'},\n",
       "    'blue corner': {'name': 'Bryan Barberena',\n",
       "     'ranking': 'Unranked',\n",
       "     'odds': '-',\n",
       "     'link': 'https://www.ufc.com/athlete/bryan-barberena'}},\n",
       "   {'weightclass': \"Women's Bantamweight\",\n",
       "    'red corner': {'name': 'Ketlen Vieira',\n",
       "     'ranking': '4',\n",
       "     'odds': '-',\n",
       "     'link': 'https://www.ufc.com/athlete/ketlen-vieira'},\n",
       "    'blue corner': {'name': 'Pannie Kianzad',\n",
       "     'ranking': '6',\n",
       "     'odds': '-',\n",
       "     'link': 'https://www.ufc.com/athlete/pannie-kianzad'}},\n",
       "   {'weightclass': 'Lightweight',\n",
       "    'red corner': {'name': 'Chris Duncan',\n",
       "     'ranking': 'Unranked',\n",
       "     'odds': '-',\n",
       "     'link': 'https://www.ufc.com/athlete/lyudovit-klayn-4'},\n",
       "    'blue corner': {'name': 'Yanal Ashmouz',\n",
       "     'ranking': 'Unranked',\n",
       "     'odds': '-',\n",
       "     'link': 'https://www.ufc.com/athlete/yanal-ashmouz'}},\n",
       "   {'weightclass': \"Women's Strawweight\",\n",
       "    'red corner': {'name': 'Shauna Bannon',\n",
       "     'ranking': 'Unranked',\n",
       "     'odds': '-',\n",
       "     'link': 'https://www.ufc.com/athlete/shauna-bannon'},\n",
       "    'blue corner': {'name': 'Bruna Brasil',\n",
       "     'ranking': 'Unranked',\n",
       "     'odds': '-',\n",
       "     'link': 'https://www.ufc.com/athlete/bruna-brasil'}},\n",
       "   {'weightclass': 'Flyweight',\n",
       "    'red corner': {'name': 'Jafel Filho',\n",
       "     'ranking': 'Unranked',\n",
       "     'odds': '-',\n",
       "     'link': 'https://www.ufc.com/athlete/jafel-filho'},\n",
       "    'blue corner': {'name': 'Daniel Barez',\n",
       "     'ranking': 'Unranked',\n",
       "     'odds': '-',\n",
       "     'link': 'https://www.ufc.com/athlete/lyudovit-klayn-1'}}]},\n",
       " 'UFC 291: Poirier vs. Gaethje 2': {'name': 'UFC 291: Poirier vs. Gaethje 2',\n",
       "  'date': '2023-07-29',\n",
       "  'location': 'Salt Lake City United States',\n",
       "  'venue': 'Delta Center',\n",
       "  'fights': []},\n",
       " 'UFC Fight Night: Sandhagen vs. Nurmagomedov': {'name': 'UFC Fight Night: Sandhagen vs. Nurmagomedov',\n",
       "  'date': '2023-08-05',\n",
       "  'location': 'Nashville United States',\n",
       "  'venue': 'Bridgestone Arena',\n",
       "  'fights': []},\n",
       " 'UFC Fight Night: Luque vs. Dos Anjos': {'name': 'UFC Fight Night: Luque vs. Dos Anjos',\n",
       "  'date': '2023-08-12',\n",
       "  'location': 'Las Vegas United States',\n",
       "  'venue': 'UFC APEX',\n",
       "  'fights': []},\n",
       " \"UFC 292: Sterling vs. O'Malley\": {'name': \"UFC 292: Sterling vs. O'Malley\",\n",
       "  'date': '2023-08-19',\n",
       "  'location': 'Boston United States',\n",
       "  'venue': 'TD Garden',\n",
       "  'fights': []},\n",
       " 'UFC Fight Night: Holloway vs. The Korean Zombie': {'name': 'UFC Fight Night: Holloway vs. The Korean Zombie',\n",
       "  'date': '2023-08-26',\n",
       "  'location': 'Singapore Singapore',\n",
       "  'venue': 'Singapore Indoor Stadium',\n",
       "  'fights': []},\n",
       " 'UFC Fight Night: Gane vs. Spivac': {'name': 'UFC Fight Night: Gane vs. Spivac',\n",
       "  'date': '2023-09-02',\n",
       "  'location': 'Paris France',\n",
       "  'venue': 'Accor Arena',\n",
       "  'fights': []}}"
      ]
     },
     "execution_count": 2,
     "metadata": {},
     "output_type": "execute_result"
    }
   ],
   "source": [
    "ft.get_upcoming_events()"
   ]
  },
  {
   "cell_type": "code",
   "execution_count": 93,
   "id": "82387bc7-518c-4225-abd4-840b254aaab1",
   "metadata": {},
   "outputs": [
    {
     "data": {
      "text/plain": [
       "['1689472800']"
      ]
     },
     "execution_count": 93,
     "metadata": {},
     "output_type": "execute_result"
    }
   ],
   "source": [
    "xml.xpath(\"//div[@class='c-hero__bottom-text']/div[1]/@data-timestamp\")"
   ]
  },
  {
   "cell_type": "code",
   "execution_count": 98,
   "id": "e3a93e04-523a-4a0e-aaef-7b3e11bffbfc",
   "metadata": {},
   "outputs": [
    {
     "data": {
      "text/plain": [
       "'2023-07-15'"
      ]
     },
     "execution_count": 98,
     "metadata": {},
     "output_type": "execute_result"
    }
   ],
   "source": [
    "dt.datetime.fromtimestamp(int(xml.xpath(\"//div[@class='c-hero__bottom-text']/div[1]/@data-timestamp\")[0])).strftime(\"%Y-%m-%d\")"
   ]
  },
  {
   "cell_type": "code",
   "execution_count": 109,
   "id": "d09faa82-120b-4fd2-803e-e035a343b2de",
   "metadata": {},
   "outputs": [
    {
     "data": {
      "text/plain": [
       "'UFC Fight Night'"
      ]
     },
     "execution_count": 109,
     "metadata": {},
     "output_type": "execute_result"
    }
   ],
   "source": [
    "xml.xpath(\"//div[@class='c-hero__header']/div[1]/div/h1/text()\")[0].strip()"
   ]
  },
  {
   "cell_type": "code",
   "execution_count": 113,
   "id": "6df4fcce-2f25-48af-94e4-cbf9fe897493",
   "metadata": {},
   "outputs": [
    {
     "data": {
      "text/plain": [
       "['Holm', '\\n    ', '\\n    ', '\\n    ', 'Bueno Silva']"
      ]
     },
     "execution_count": 113,
     "metadata": {},
     "output_type": "execute_result"
    }
   ],
   "source": [
    "xml.xpath(\"//div[@class='c-hero__header']/div[2]/span/span/text()\")"
   ]
  },
  {
   "cell_type": "code",
   "execution_count": 119,
   "id": "d9b45622-7d6f-49a7-8514-2c98c3ecc314",
   "metadata": {},
   "outputs": [
    {
     "data": {
      "text/plain": [
       "[]"
      ]
     },
     "execution_count": 119,
     "metadata": {},
     "output_type": "execute_result"
    }
   ],
   "source": [
    "fight.xpath(\"div/div/div/div[2]/div[2]/div[2]/div[2]/span/text()\")"
   ]
  },
  {
   "cell_type": "code",
   "execution_count": 120,
   "id": "14797c4d-1699-4c34-bf69-64ff6345aa32",
   "metadata": {},
   "outputs": [
    {
     "data": {
      "text/plain": [
       "'14'"
      ]
     },
     "execution_count": 120,
     "metadata": {},
     "output_type": "execute_result"
    }
   ],
   "source": [
    "fight.xpath(\"div/div/div/div[2]/div[2]/div[2]/div[1]/span/text()\")[0][1:]"
   ]
  },
  {
   "cell_type": "code",
   "execution_count": 133,
   "id": "8ec9b534-893c-4cc5-b9fe-326cfe45c24b",
   "metadata": {},
   "outputs": [
    {
     "data": {
      "text/plain": [
       "<Response [404]>"
      ]
     },
     "execution_count": 133,
     "metadata": {},
     "output_type": "execute_result"
    }
   ],
   "source": [
    "req.get('https://www.ufc.com/views/ajax?_wrapper_format=drupal_ajax')"
   ]
  },
  {
   "cell_type": "code",
   "execution_count": 148,
   "id": "0e7104f2-a5c2-4b77-a6af-7ff925f1d273",
   "metadata": {},
   "outputs": [],
   "source": [
    "results = xml.xpath(\"//div[@class='c-listing-fight__outcome-wrapper']/div/text()\")"
   ]
  },
  {
   "cell_type": "code",
   "execution_count": 153,
   "id": "c6429797-4b48-4cb7-a1cc-c3d8d1b12f5c",
   "metadata": {},
   "outputs": [
    {
     "data": {
      "text/plain": [
       "[]"
      ]
     },
     "execution_count": 153,
     "metadata": {},
     "output_type": "execute_result"
    }
   ],
   "source": [
    "fight.xpath(\"//div[@class='c-listing-fight__outcome-wrapper']/div/text()\")"
   ]
  },
  {
   "cell_type": "code",
   "execution_count": 162,
   "id": "10c96a81-2fb0-4e8d-a592-0a49d34cd91c",
   "metadata": {},
   "outputs": [
    {
     "data": {
      "text/plain": [
       "['\\n                  Loss\\n                ',\n",
       " '\\n                  Win\\n                ']"
      ]
     },
     "execution_count": 162,
     "metadata": {},
     "output_type": "execute_result"
    }
   ],
   "source": [
    "fight.xpath(\"div/div/div/div[2]//div[@class='c-listing-fight__outcome-wrapper']/div/text()\")"
   ]
  },
  {
   "cell_type": "code",
   "execution_count": null,
   "id": "ade3f765-60a3-4e14-b4af-936e483dcd3a",
   "metadata": {},
   "outputs": [],
   "source": []
  }
 ],
 "metadata": {
  "kernelspec": {
   "display_name": "Python 3 (ipykernel)",
   "language": "python",
   "name": "python3"
  },
  "language_info": {
   "codemirror_mode": {
    "name": "ipython",
    "version": 3
   },
   "file_extension": ".py",
   "mimetype": "text/x-python",
   "name": "python",
   "nbconvert_exporter": "python",
   "pygments_lexer": "ipython3",
   "version": "3.10.2"
  }
 },
 "nbformat": 4,
 "nbformat_minor": 5
}
